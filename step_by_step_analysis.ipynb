{
 "cells": [
  {
   "cell_type": "markdown",
   "id": "84614e85-26f1-4afa-b338-196219b96638",
   "metadata": {},
   "source": [
    "## Chemical Compounds Join Analysis"
   ]
  },
  {
   "cell_type": "markdown",
   "id": "1ac64287-bebf-469e-9ae6-26bb1b0f1aed",
   "metadata": {
    "tags": []
   },
   "source": [
    "We want to know which compounds are in common between two alternative reporting standards and which ones belong to one one of each. We also want to know the different names in the different standards even if they have the same CAS number"
   ]
  },
  {
   "cell_type": "markdown",
   "id": "889a1edb-81dc-416b-8e60-346157fb962e",
   "metadata": {},
   "source": [
    "Tutorial by Rafael Guerra"
   ]
  },
  {
   "cell_type": "markdown",
   "id": "296f32ac-4e88-43fa-a6b2-50c468a8d051",
   "metadata": {},
   "source": [
    "#### Import libraries"
   ]
  },
  {
   "cell_type": "code",
   "execution_count": 34,
   "id": "9c9e4e74-ec2c-4d04-a455-f57711839ca5",
   "metadata": {},
   "outputs": [],
   "source": [
    "import pandas as pd\n",
    "import numpy as np"
   ]
  },
  {
   "cell_type": "markdown",
   "id": "000545f2-cdee-4642-a65b-991066021407",
   "metadata": {},
   "source": [
    "#### Load Data"
   ]
  },
  {
   "cell_type": "markdown",
   "id": "52bff4f1-e8f7-469a-af54-963a6dbb3fae",
   "metadata": {},
   "source": [
    "There are two reporting standards for chemicals, the SmartLabel standard and the CPISI standard."
   ]
  },
  {
   "cell_type": "code",
   "execution_count": 35,
   "id": "d13c3c72-9c83-408f-9e1b-4e2627106ed5",
   "metadata": {},
   "outputs": [],
   "source": [
    "sl = pd.read_csv('smart_label_data.csv')\n",
    "cpisi = pd.read_csv('cpisi.csv')"
   ]
  },
  {
   "cell_type": "markdown",
   "id": "4ee5af9c-c9a4-4b88-ba51-f2e6ea1ca7a2",
   "metadata": {},
   "source": [
    "#### Examine Data"
   ]
  },
  {
   "cell_type": "markdown",
   "id": "69bfe835-afa0-4029-acea-03a3f5439f9c",
   "metadata": {},
   "source": [
    "We have a few issues we need to take care of such as a value of 0, not available, and NaN. There are also values with the / or - signs and after consulting with specialists in the field, these are all acceptable formats. This may only be present in one of the reporting standards, but it is good practice to check this issue for both datasets."
   ]
  },
  {
   "cell_type": "code",
   "execution_count": 36,
   "id": "f5ac46b0-9ae1-43b6-b27c-6c603995a282",
   "metadata": {},
   "outputs": [
    {
     "data": {
      "text/html": [
       "<div>\n",
       "<style scoped>\n",
       "    .dataframe tbody tr th:only-of-type {\n",
       "        vertical-align: middle;\n",
       "    }\n",
       "\n",
       "    .dataframe tbody tr th {\n",
       "        vertical-align: top;\n",
       "    }\n",
       "\n",
       "    .dataframe thead th {\n",
       "        text-align: right;\n",
       "    }\n",
       "</style>\n",
       "<table border=\"1\" class=\"dataframe\">\n",
       "  <thead>\n",
       "    <tr style=\"text-align: right;\">\n",
       "      <th></th>\n",
       "      <th>ingredient</th>\n",
       "      <th>cas_number</th>\n",
       "    </tr>\n",
       "  </thead>\n",
       "  <tbody>\n",
       "    <tr>\n",
       "      <th>0</th>\n",
       "      <td>BUTYLATED HYDROXYTOLUENE (BHT)</td>\n",
       "      <td>0</td>\n",
       "    </tr>\n",
       "    <tr>\n",
       "      <th>1</th>\n",
       "      <td>BUTYLPHENYL METHYLPROPIONAL</td>\n",
       "      <td>0</td>\n",
       "    </tr>\n",
       "    <tr>\n",
       "      <th>2</th>\n",
       "      <td>C.I. 21108</td>\n",
       "      <td>0</td>\n",
       "    </tr>\n",
       "    <tr>\n",
       "      <th>3</th>\n",
       "      <td>C.I. 50415B</td>\n",
       "      <td>0</td>\n",
       "    </tr>\n",
       "    <tr>\n",
       "      <th>4</th>\n",
       "      <td>C.I. 77266</td>\n",
       "      <td>0</td>\n",
       "    </tr>\n",
       "    <tr>\n",
       "      <th>5</th>\n",
       "      <td>C.I. ACID BLUE 182</td>\n",
       "      <td>72152-54-6</td>\n",
       "    </tr>\n",
       "    <tr>\n",
       "      <th>6</th>\n",
       "      <td>C.I. ACID BLUE 7</td>\n",
       "      <td>3486-30-4</td>\n",
       "    </tr>\n",
       "    <tr>\n",
       "      <th>7</th>\n",
       "      <td>C.I. ACID BLUE 80</td>\n",
       "      <td>4474-24-2</td>\n",
       "    </tr>\n",
       "    <tr>\n",
       "      <th>8</th>\n",
       "      <td>C.I. ACID YELLOW 17</td>\n",
       "      <td>6359-98-4</td>\n",
       "    </tr>\n",
       "    <tr>\n",
       "      <th>9</th>\n",
       "      <td>C.I. DIRECT BLUE 199</td>\n",
       "      <td>12222-04-7</td>\n",
       "    </tr>\n",
       "  </tbody>\n",
       "</table>\n",
       "</div>"
      ],
      "text/plain": [
       "                       ingredient  cas_number\n",
       "0  BUTYLATED HYDROXYTOLUENE (BHT)           0\n",
       "1     BUTYLPHENYL METHYLPROPIONAL           0\n",
       "2                      C.I. 21108           0\n",
       "3                     C.I. 50415B           0\n",
       "4                      C.I. 77266           0\n",
       "5              C.I. ACID BLUE 182  72152-54-6\n",
       "6                C.I. ACID BLUE 7   3486-30-4\n",
       "7               C.I. ACID BLUE 80   4474-24-2\n",
       "8             C.I. ACID YELLOW 17   6359-98-4\n",
       "9            C.I. DIRECT BLUE 199  12222-04-7"
      ]
     },
     "execution_count": 36,
     "metadata": {},
     "output_type": "execute_result"
    }
   ],
   "source": [
    "sl.head(10)"
   ]
  },
  {
   "cell_type": "code",
   "execution_count": 37,
   "id": "7c2fce85-48e5-40aa-9da1-f05d75db3dc3",
   "metadata": {},
   "outputs": [
    {
     "data": {
      "text/html": [
       "<div>\n",
       "<style scoped>\n",
       "    .dataframe tbody tr th:only-of-type {\n",
       "        vertical-align: middle;\n",
       "    }\n",
       "\n",
       "    .dataframe tbody tr th {\n",
       "        vertical-align: top;\n",
       "    }\n",
       "\n",
       "    .dataframe thead th {\n",
       "        text-align: right;\n",
       "    }\n",
       "</style>\n",
       "<table border=\"1\" class=\"dataframe\">\n",
       "  <thead>\n",
       "    <tr style=\"text-align: right;\">\n",
       "      <th></th>\n",
       "      <th>ingredient</th>\n",
       "      <th>cas_number</th>\n",
       "    </tr>\n",
       "  </thead>\n",
       "  <tbody>\n",
       "    <tr>\n",
       "      <th>0</th>\n",
       "      <td>(3R,4S,5S,6R)-2-HEXOXY-6-(HYDROXYMETHYL)OXANE-...</td>\n",
       "      <td>54549-24-5</td>\n",
       "    </tr>\n",
       "    <tr>\n",
       "      <th>1</th>\n",
       "      <td>(4-FORMYLPHENYL)BORONIC ACID</td>\n",
       "      <td>87199-17-5</td>\n",
       "    </tr>\n",
       "    <tr>\n",
       "      <th>2</th>\n",
       "      <td>[(2R,3R,4R,5R)-2-(2-AMINO-6-OXO-3H-PURIN-9-YL)...</td>\n",
       "      <td>12237-24-0</td>\n",
       "    </tr>\n",
       "    <tr>\n",
       "      <th>3</th>\n",
       "      <td>[3-[[(2R)-1-[(2R)-1-[(2S)-2-[(3R)-3-HYDROXYBUT...</td>\n",
       "      <td>68400-67-9</td>\n",
       "    </tr>\n",
       "    <tr>\n",
       "      <th>4</th>\n",
       "      <td>1,2-THIAZOL-3-ONE</td>\n",
       "      <td>1003-07-2</td>\n",
       "    </tr>\n",
       "    <tr>\n",
       "      <th>5</th>\n",
       "      <td>1,3,5-TRIAZINE-2,4,6(1H,3H,5H)-TRIONE, 1,3,5-T...</td>\n",
       "      <td>87-90-1</td>\n",
       "    </tr>\n",
       "    <tr>\n",
       "      <th>6</th>\n",
       "      <td>1,3-CYCLOHEXANEDIMETHANAMINE</td>\n",
       "      <td>2579-20-6</td>\n",
       "    </tr>\n",
       "    <tr>\n",
       "      <th>7</th>\n",
       "      <td>1,4-BIS(2,4,6-TRIMETHYLANILINO)ANTHRACENE-9,10...</td>\n",
       "      <td>116-75-6</td>\n",
       "    </tr>\n",
       "    <tr>\n",
       "      <th>8</th>\n",
       "      <td>1,4-DIAMINO-2,3-DICHLOROANTHRACENE-9,10-DIONE</td>\n",
       "      <td>81-42-5</td>\n",
       "    </tr>\n",
       "    <tr>\n",
       "      <th>9</th>\n",
       "      <td>1-[3-(2,4-DIAMINO-6-METHYLQUINAZOLIN-7-YL)PHEN...</td>\n",
       "      <td>93348-22-2</td>\n",
       "    </tr>\n",
       "  </tbody>\n",
       "</table>\n",
       "</div>"
      ],
      "text/plain": [
       "                                          ingredient  cas_number\n",
       "0  (3R,4S,5S,6R)-2-HEXOXY-6-(HYDROXYMETHYL)OXANE-...  54549-24-5\n",
       "1                       (4-FORMYLPHENYL)BORONIC ACID  87199-17-5\n",
       "2  [(2R,3R,4R,5R)-2-(2-AMINO-6-OXO-3H-PURIN-9-YL)...  12237-24-0\n",
       "3  [3-[[(2R)-1-[(2R)-1-[(2S)-2-[(3R)-3-HYDROXYBUT...  68400-67-9\n",
       "4                                  1,2-THIAZOL-3-ONE   1003-07-2\n",
       "5  1,3,5-TRIAZINE-2,4,6(1H,3H,5H)-TRIONE, 1,3,5-T...     87-90-1\n",
       "6                       1,3-CYCLOHEXANEDIMETHANAMINE   2579-20-6\n",
       "7  1,4-BIS(2,4,6-TRIMETHYLANILINO)ANTHRACENE-9,10...    116-75-6\n",
       "8      1,4-DIAMINO-2,3-DICHLOROANTHRACENE-9,10-DIONE     81-42-5\n",
       "9  1-[3-(2,4-DIAMINO-6-METHYLQUINAZOLIN-7-YL)PHEN...  93348-22-2"
      ]
     },
     "execution_count": 37,
     "metadata": {},
     "output_type": "execute_result"
    }
   ],
   "source": [
    "cpisi.head(10)"
   ]
  },
  {
   "cell_type": "markdown",
   "id": "4b66aa30-1387-4877-b101-95e91787130e",
   "metadata": {},
   "source": [
    "#### Remove NaN, Not Available, and values of 0"
   ]
  },
  {
   "cell_type": "markdown",
   "id": "89ca9dc4-5034-450b-ae96-d09e07d9f7d9",
   "metadata": {},
   "source": [
    "Since we want to retain all original data when we report individual items, I suggest an approach to create an additional feature instead of mutating the cas_number feature. This feature will be called mutated_cas and will converge the value of NaN, 0, and Not Available to the string 'SL Only' or 'CPISI Only'"
   ]
  },
  {
   "cell_type": "code",
   "execution_count": 38,
   "id": "b96ff8b7-577a-4f30-8b38-bfdbbe05d095",
   "metadata": {},
   "outputs": [],
   "source": [
    "sl['mutated_cas'] = sl['cas_number'].replace(['0','Not Available','Propietary',np.nan,'NA'],'SL Only')"
   ]
  },
  {
   "cell_type": "code",
   "execution_count": 39,
   "id": "6a34f040-9aed-4396-8883-d7ad602d9967",
   "metadata": {},
   "outputs": [],
   "source": [
    "cpisi['mutated_cas'] = cpisi['cas_number'].replace(['0','Not Available','Propietary',np.nan,'NA'],'CPSI Only')"
   ]
  },
  {
   "cell_type": "code",
   "execution_count": 40,
   "id": "7cc3031f-7d81-46a2-9265-510e2a39c2ec",
   "metadata": {},
   "outputs": [
    {
     "data": {
      "text/html": [
       "<div>\n",
       "<style scoped>\n",
       "    .dataframe tbody tr th:only-of-type {\n",
       "        vertical-align: middle;\n",
       "    }\n",
       "\n",
       "    .dataframe tbody tr th {\n",
       "        vertical-align: top;\n",
       "    }\n",
       "\n",
       "    .dataframe thead th {\n",
       "        text-align: right;\n",
       "    }\n",
       "</style>\n",
       "<table border=\"1\" class=\"dataframe\">\n",
       "  <thead>\n",
       "    <tr style=\"text-align: right;\">\n",
       "      <th></th>\n",
       "      <th>ingredient</th>\n",
       "      <th>cas_number</th>\n",
       "      <th>mutated_cas</th>\n",
       "    </tr>\n",
       "  </thead>\n",
       "  <tbody>\n",
       "    <tr>\n",
       "      <th>0</th>\n",
       "      <td>BUTYLATED HYDROXYTOLUENE (BHT)</td>\n",
       "      <td>0</td>\n",
       "      <td>SL Only</td>\n",
       "    </tr>\n",
       "    <tr>\n",
       "      <th>1</th>\n",
       "      <td>BUTYLPHENYL METHYLPROPIONAL</td>\n",
       "      <td>0</td>\n",
       "      <td>SL Only</td>\n",
       "    </tr>\n",
       "    <tr>\n",
       "      <th>2</th>\n",
       "      <td>C.I. 21108</td>\n",
       "      <td>0</td>\n",
       "      <td>SL Only</td>\n",
       "    </tr>\n",
       "    <tr>\n",
       "      <th>3</th>\n",
       "      <td>C.I. 50415B</td>\n",
       "      <td>0</td>\n",
       "      <td>SL Only</td>\n",
       "    </tr>\n",
       "    <tr>\n",
       "      <th>4</th>\n",
       "      <td>C.I. 77266</td>\n",
       "      <td>0</td>\n",
       "      <td>SL Only</td>\n",
       "    </tr>\n",
       "  </tbody>\n",
       "</table>\n",
       "</div>"
      ],
      "text/plain": [
       "                       ingredient cas_number mutated_cas\n",
       "0  BUTYLATED HYDROXYTOLUENE (BHT)          0     SL Only\n",
       "1     BUTYLPHENYL METHYLPROPIONAL          0     SL Only\n",
       "2                      C.I. 21108          0     SL Only\n",
       "3                     C.I. 50415B          0     SL Only\n",
       "4                      C.I. 77266          0     SL Only"
      ]
     },
     "execution_count": 40,
     "metadata": {},
     "output_type": "execute_result"
    }
   ],
   "source": [
    "sl.head()"
   ]
  },
  {
   "cell_type": "code",
   "execution_count": 41,
   "id": "14508664-a0e7-47a1-8870-c555dedd75da",
   "metadata": {},
   "outputs": [
    {
     "data": {
      "text/html": [
       "<div>\n",
       "<style scoped>\n",
       "    .dataframe tbody tr th:only-of-type {\n",
       "        vertical-align: middle;\n",
       "    }\n",
       "\n",
       "    .dataframe tbody tr th {\n",
       "        vertical-align: top;\n",
       "    }\n",
       "\n",
       "    .dataframe thead th {\n",
       "        text-align: right;\n",
       "    }\n",
       "</style>\n",
       "<table border=\"1\" class=\"dataframe\">\n",
       "  <thead>\n",
       "    <tr style=\"text-align: right;\">\n",
       "      <th></th>\n",
       "      <th>ingredient</th>\n",
       "      <th>cas_number</th>\n",
       "      <th>mutated_cas</th>\n",
       "    </tr>\n",
       "  </thead>\n",
       "  <tbody>\n",
       "    <tr>\n",
       "      <th>0</th>\n",
       "      <td>(3R,4S,5S,6R)-2-HEXOXY-6-(HYDROXYMETHYL)OXANE-...</td>\n",
       "      <td>54549-24-5</td>\n",
       "      <td>54549-24-5</td>\n",
       "    </tr>\n",
       "    <tr>\n",
       "      <th>1</th>\n",
       "      <td>(4-FORMYLPHENYL)BORONIC ACID</td>\n",
       "      <td>87199-17-5</td>\n",
       "      <td>87199-17-5</td>\n",
       "    </tr>\n",
       "    <tr>\n",
       "      <th>2</th>\n",
       "      <td>[(2R,3R,4R,5R)-2-(2-AMINO-6-OXO-3H-PURIN-9-YL)...</td>\n",
       "      <td>12237-24-0</td>\n",
       "      <td>12237-24-0</td>\n",
       "    </tr>\n",
       "    <tr>\n",
       "      <th>3</th>\n",
       "      <td>[3-[[(2R)-1-[(2R)-1-[(2S)-2-[(3R)-3-HYDROXYBUT...</td>\n",
       "      <td>68400-67-9</td>\n",
       "      <td>68400-67-9</td>\n",
       "    </tr>\n",
       "    <tr>\n",
       "      <th>4</th>\n",
       "      <td>1,2-THIAZOL-3-ONE</td>\n",
       "      <td>1003-07-2</td>\n",
       "      <td>1003-07-2</td>\n",
       "    </tr>\n",
       "  </tbody>\n",
       "</table>\n",
       "</div>"
      ],
      "text/plain": [
       "                                          ingredient  cas_number mutated_cas\n",
       "0  (3R,4S,5S,6R)-2-HEXOXY-6-(HYDROXYMETHYL)OXANE-...  54549-24-5  54549-24-5\n",
       "1                       (4-FORMYLPHENYL)BORONIC ACID  87199-17-5  87199-17-5\n",
       "2  [(2R,3R,4R,5R)-2-(2-AMINO-6-OXO-3H-PURIN-9-YL)...  12237-24-0  12237-24-0\n",
       "3  [3-[[(2R)-1-[(2R)-1-[(2S)-2-[(3R)-3-HYDROXYBUT...  68400-67-9  68400-67-9\n",
       "4                                  1,2-THIAZOL-3-ONE   1003-07-2   1003-07-2"
      ]
     },
     "execution_count": 41,
     "metadata": {},
     "output_type": "execute_result"
    }
   ],
   "source": [
    "cpisi.head()"
   ]
  },
  {
   "cell_type": "markdown",
   "id": "628e39e9-9d0f-4109-8c67-d41ba5458592",
   "metadata": {},
   "source": [
    "#### Using Merge to create common dataframe"
   ]
  },
  {
   "cell_type": "markdown",
   "id": "2e2be4a1-2a1c-4a57-a54f-6b4ca0e52166",
   "metadata": {},
   "source": [
    "First, we generate common_items.csv which will take items of two databases (FL and CPISI) that have common mutated_cas values."
   ]
  },
  {
   "cell_type": "code",
   "execution_count": 42,
   "id": "c8d7e2df-8515-4a6c-9a27-ed9aef1532de",
   "metadata": {},
   "outputs": [],
   "source": [
    "common_items = pd.merge(sl,cpisi,left_on='mutated_cas',right_on='mutated_cas',suffixes=('_sl', '_cpisi'))"
   ]
  },
  {
   "cell_type": "code",
   "execution_count": 43,
   "id": "ebe64c50-da64-45fa-837e-a3f03381fa28",
   "metadata": {},
   "outputs": [
    {
     "data": {
      "text/html": [
       "<div>\n",
       "<style scoped>\n",
       "    .dataframe tbody tr th:only-of-type {\n",
       "        vertical-align: middle;\n",
       "    }\n",
       "\n",
       "    .dataframe tbody tr th {\n",
       "        vertical-align: top;\n",
       "    }\n",
       "\n",
       "    .dataframe thead th {\n",
       "        text-align: right;\n",
       "    }\n",
       "</style>\n",
       "<table border=\"1\" class=\"dataframe\">\n",
       "  <thead>\n",
       "    <tr style=\"text-align: right;\">\n",
       "      <th></th>\n",
       "      <th>ingredient_sl</th>\n",
       "      <th>cas_number_sl</th>\n",
       "      <th>mutated_cas</th>\n",
       "      <th>ingredient_cpisi</th>\n",
       "      <th>cas_number_cpisi</th>\n",
       "    </tr>\n",
       "  </thead>\n",
       "  <tbody>\n",
       "    <tr>\n",
       "      <th>0</th>\n",
       "      <td>C.I. ACID BLUE 7</td>\n",
       "      <td>3486-30-4</td>\n",
       "      <td>3486-30-4</td>\n",
       "      <td>CI 42080</td>\n",
       "      <td>3486-30-4</td>\n",
       "    </tr>\n",
       "    <tr>\n",
       "      <th>1</th>\n",
       "      <td>C.I. ACID BLUE 80</td>\n",
       "      <td>4474-24-2</td>\n",
       "      <td>4474-24-2</td>\n",
       "      <td>CI 61585</td>\n",
       "      <td>4474-24-2</td>\n",
       "    </tr>\n",
       "    <tr>\n",
       "      <th>2</th>\n",
       "      <td>C.I. ACID YELLOW 17</td>\n",
       "      <td>6359-98-4</td>\n",
       "      <td>6359-98-4</td>\n",
       "      <td>CI 18965</td>\n",
       "      <td>6359-98-4</td>\n",
       "    </tr>\n",
       "    <tr>\n",
       "      <th>3</th>\n",
       "      <td>C.I. DIRECT BLUE 199</td>\n",
       "      <td>12222-04-7</td>\n",
       "      <td>12222-04-7</td>\n",
       "      <td>C.I. DIRECT BLUE 199</td>\n",
       "      <td>12222-04-7</td>\n",
       "    </tr>\n",
       "    <tr>\n",
       "      <th>4</th>\n",
       "      <td>C.I. DIRECT BLUE 86</td>\n",
       "      <td>1330-38-7</td>\n",
       "      <td>1330-38-7</td>\n",
       "      <td>CI 74180</td>\n",
       "      <td>1330-38-7</td>\n",
       "    </tr>\n",
       "    <tr>\n",
       "      <th>...</th>\n",
       "      <td>...</td>\n",
       "      <td>...</td>\n",
       "      <td>...</td>\n",
       "      <td>...</td>\n",
       "      <td>...</td>\n",
       "    </tr>\n",
       "    <tr>\n",
       "      <th>119</th>\n",
       "      <td>ISOPROPANOLDL</td>\n",
       "      <td>67-63-0</td>\n",
       "      <td>67-63-0</td>\n",
       "      <td>ISOPROPYL ALCOHOL</td>\n",
       "      <td>67-63-0</td>\n",
       "    </tr>\n",
       "    <tr>\n",
       "      <th>120</th>\n",
       "      <td>ISOTRIDECANOL ETHOXYLATED</td>\n",
       "      <td>9043-30-5</td>\n",
       "      <td>9043-30-5</td>\n",
       "      <td>ISOTRIDECANOL ETHOXYLATED 9EO</td>\n",
       "      <td>9043-30-5</td>\n",
       "    </tr>\n",
       "    <tr>\n",
       "      <th>121</th>\n",
       "      <td>LACTIC ACID</td>\n",
       "      <td>79-33-4</td>\n",
       "      <td>79-33-4</td>\n",
       "      <td>LACTIC ACID</td>\n",
       "      <td>79-33-4</td>\n",
       "    </tr>\n",
       "    <tr>\n",
       "      <th>122</th>\n",
       "      <td>LACTIC ACID (ÁCIDO LÁCTICO)</td>\n",
       "      <td>79-33-4</td>\n",
       "      <td>79-33-4</td>\n",
       "      <td>LACTIC ACID</td>\n",
       "      <td>79-33-4</td>\n",
       "    </tr>\n",
       "    <tr>\n",
       "      <th>123</th>\n",
       "      <td>LAURAMIDE MEA</td>\n",
       "      <td>142-78-9</td>\n",
       "      <td>142-78-9</td>\n",
       "      <td>LAURAMIDE MEA</td>\n",
       "      <td>142-78-9</td>\n",
       "    </tr>\n",
       "  </tbody>\n",
       "</table>\n",
       "<p>124 rows × 5 columns</p>\n",
       "</div>"
      ],
      "text/plain": [
       "                   ingredient_sl cas_number_sl mutated_cas  \\\n",
       "0               C.I. ACID BLUE 7     3486-30-4   3486-30-4   \n",
       "1              C.I. ACID BLUE 80     4474-24-2   4474-24-2   \n",
       "2            C.I. ACID YELLOW 17     6359-98-4   6359-98-4   \n",
       "3           C.I. DIRECT BLUE 199    12222-04-7  12222-04-7   \n",
       "4            C.I. DIRECT BLUE 86     1330-38-7   1330-38-7   \n",
       "..                           ...           ...         ...   \n",
       "119                ISOPROPANOLDL       67-63-0     67-63-0   \n",
       "120    ISOTRIDECANOL ETHOXYLATED     9043-30-5   9043-30-5   \n",
       "121                  LACTIC ACID       79-33-4     79-33-4   \n",
       "122  LACTIC ACID (ÁCIDO LÁCTICO)       79-33-4     79-33-4   \n",
       "123                LAURAMIDE MEA      142-78-9    142-78-9   \n",
       "\n",
       "                  ingredient_cpisi cas_number_cpisi  \n",
       "0                         CI 42080        3486-30-4  \n",
       "1                         CI 61585        4474-24-2  \n",
       "2                         CI 18965        6359-98-4  \n",
       "3             C.I. DIRECT BLUE 199       12222-04-7  \n",
       "4                         CI 74180        1330-38-7  \n",
       "..                             ...              ...  \n",
       "119              ISOPROPYL ALCOHOL          67-63-0  \n",
       "120  ISOTRIDECANOL ETHOXYLATED 9EO        9043-30-5  \n",
       "121                    LACTIC ACID          79-33-4  \n",
       "122                    LACTIC ACID          79-33-4  \n",
       "123                  LAURAMIDE MEA         142-78-9  \n",
       "\n",
       "[124 rows x 5 columns]"
      ]
     },
     "execution_count": 43,
     "metadata": {},
     "output_type": "execute_result"
    }
   ],
   "source": [
    "common_items"
   ]
  },
  {
   "cell_type": "markdown",
   "id": "e88010cc-9eb6-4f71-8cc2-f40a6efd74f9",
   "metadata": {},
   "source": [
    "As we can see, there is too much overlapping information, so we will go ahead and select only the features we are interested in, which is the common CAS number, and then each database's name for that ingredient"
   ]
  },
  {
   "cell_type": "code",
   "execution_count": 44,
   "id": "77b5a121-3439-4444-a7bd-d7103dc3ab4f",
   "metadata": {},
   "outputs": [],
   "source": [
    "common_items = common_items[['ingredient_sl','ingredient_cpisi','mutated_cas']]"
   ]
  },
  {
   "cell_type": "code",
   "execution_count": 45,
   "id": "c2c7eef8-c0ce-4f78-a7dc-b24d91cd2ce4",
   "metadata": {},
   "outputs": [
    {
     "data": {
      "text/html": [
       "<div>\n",
       "<style scoped>\n",
       "    .dataframe tbody tr th:only-of-type {\n",
       "        vertical-align: middle;\n",
       "    }\n",
       "\n",
       "    .dataframe tbody tr th {\n",
       "        vertical-align: top;\n",
       "    }\n",
       "\n",
       "    .dataframe thead th {\n",
       "        text-align: right;\n",
       "    }\n",
       "</style>\n",
       "<table border=\"1\" class=\"dataframe\">\n",
       "  <thead>\n",
       "    <tr style=\"text-align: right;\">\n",
       "      <th></th>\n",
       "      <th>ingredient_sl</th>\n",
       "      <th>ingredient_cpisi</th>\n",
       "      <th>mutated_cas</th>\n",
       "    </tr>\n",
       "  </thead>\n",
       "  <tbody>\n",
       "    <tr>\n",
       "      <th>0</th>\n",
       "      <td>C.I. ACID BLUE 7</td>\n",
       "      <td>CI 42080</td>\n",
       "      <td>3486-30-4</td>\n",
       "    </tr>\n",
       "    <tr>\n",
       "      <th>1</th>\n",
       "      <td>C.I. ACID BLUE 80</td>\n",
       "      <td>CI 61585</td>\n",
       "      <td>4474-24-2</td>\n",
       "    </tr>\n",
       "    <tr>\n",
       "      <th>2</th>\n",
       "      <td>C.I. ACID YELLOW 17</td>\n",
       "      <td>CI 18965</td>\n",
       "      <td>6359-98-4</td>\n",
       "    </tr>\n",
       "    <tr>\n",
       "      <th>3</th>\n",
       "      <td>C.I. DIRECT BLUE 199</td>\n",
       "      <td>C.I. DIRECT BLUE 199</td>\n",
       "      <td>12222-04-7</td>\n",
       "    </tr>\n",
       "    <tr>\n",
       "      <th>4</th>\n",
       "      <td>C.I. DIRECT BLUE 86</td>\n",
       "      <td>CI 74180</td>\n",
       "      <td>1330-38-7</td>\n",
       "    </tr>\n",
       "  </tbody>\n",
       "</table>\n",
       "</div>"
      ],
      "text/plain": [
       "          ingredient_sl      ingredient_cpisi mutated_cas\n",
       "0      C.I. ACID BLUE 7              CI 42080   3486-30-4\n",
       "1     C.I. ACID BLUE 80              CI 61585   4474-24-2\n",
       "2   C.I. ACID YELLOW 17              CI 18965   6359-98-4\n",
       "3  C.I. DIRECT BLUE 199  C.I. DIRECT BLUE 199  12222-04-7\n",
       "4   C.I. DIRECT BLUE 86              CI 74180   1330-38-7"
      ]
     },
     "execution_count": 45,
     "metadata": {},
     "output_type": "execute_result"
    }
   ],
   "source": [
    "common_items.head()"
   ]
  },
  {
   "cell_type": "markdown",
   "id": "bc09e3be-ad8b-4fba-aa41-10278568eb8c",
   "metadata": {},
   "source": [
    "And now we are ready to save this as a CSV. We include index = False so that we don't have a column with enumeration."
   ]
  },
  {
   "cell_type": "code",
   "execution_count": 46,
   "id": "aa3f5a68-6a9c-4d39-ae0c-e6325158152c",
   "metadata": {},
   "outputs": [],
   "source": [
    "common_items.to_csv('common_items.csv',index=False)"
   ]
  },
  {
   "cell_type": "markdown",
   "id": "a171d9c8-642d-435f-a527-2136f73e33fb",
   "metadata": {},
   "source": [
    "#### Create SL Only CSV"
   ]
  },
  {
   "cell_type": "markdown",
   "id": "ecaaa48a-71dc-47b4-9631-aeb8a7aa7a05",
   "metadata": {},
   "source": [
    "For this, once again we will use the merge function in pandas with the mutated_cas, but we will only keep the items that are present in the SL dataset. We will be using the tilde in Pandas which is the BITWISE operator. Basically, it returns the boolean opposite. So, in this case, instead of returning _merge == 'both', it's actually everything except for that"
   ]
  },
  {
   "cell_type": "code",
   "execution_count": 47,
   "id": "c6300ca0-20d1-4de4-b104-638cd9adbfcb",
   "metadata": {},
   "outputs": [],
   "source": [
    "outer_join_sl = pd.merge(sl,common_items,on='mutated_cas',how='outer', indicator = True)"
   ]
  },
  {
   "cell_type": "code",
   "execution_count": 48,
   "id": "53ca5680-015b-4cb5-9335-c8316742b24e",
   "metadata": {},
   "outputs": [],
   "source": [
    "anti_join_sl = outer_join_sl[~(outer_join_sl._merge == 'both')].drop('_merge', axis = 1)"
   ]
  },
  {
   "cell_type": "code",
   "execution_count": 49,
   "id": "1cd536bf-e193-436f-bcbe-7a3b589c9dc9",
   "metadata": {},
   "outputs": [
    {
     "data": {
      "text/html": [
       "<div>\n",
       "<style scoped>\n",
       "    .dataframe tbody tr th:only-of-type {\n",
       "        vertical-align: middle;\n",
       "    }\n",
       "\n",
       "    .dataframe tbody tr th {\n",
       "        vertical-align: top;\n",
       "    }\n",
       "\n",
       "    .dataframe thead th {\n",
       "        text-align: right;\n",
       "    }\n",
       "</style>\n",
       "<table border=\"1\" class=\"dataframe\">\n",
       "  <thead>\n",
       "    <tr style=\"text-align: right;\">\n",
       "      <th></th>\n",
       "      <th>ingredient</th>\n",
       "      <th>cas_number</th>\n",
       "      <th>mutated_cas</th>\n",
       "      <th>ingredient_sl</th>\n",
       "      <th>ingredient_cpisi</th>\n",
       "    </tr>\n",
       "  </thead>\n",
       "  <tbody>\n",
       "    <tr>\n",
       "      <th>0</th>\n",
       "      <td>BUTYLATED HYDROXYTOLUENE (BHT)</td>\n",
       "      <td>0</td>\n",
       "      <td>SL Only</td>\n",
       "      <td>NaN</td>\n",
       "      <td>NaN</td>\n",
       "    </tr>\n",
       "    <tr>\n",
       "      <th>1</th>\n",
       "      <td>BUTYLPHENYL METHYLPROPIONAL</td>\n",
       "      <td>0</td>\n",
       "      <td>SL Only</td>\n",
       "      <td>NaN</td>\n",
       "      <td>NaN</td>\n",
       "    </tr>\n",
       "    <tr>\n",
       "      <th>2</th>\n",
       "      <td>C.I. 21108</td>\n",
       "      <td>0</td>\n",
       "      <td>SL Only</td>\n",
       "      <td>NaN</td>\n",
       "      <td>NaN</td>\n",
       "    </tr>\n",
       "    <tr>\n",
       "      <th>3</th>\n",
       "      <td>C.I. 50415B</td>\n",
       "      <td>0</td>\n",
       "      <td>SL Only</td>\n",
       "      <td>NaN</td>\n",
       "      <td>NaN</td>\n",
       "    </tr>\n",
       "    <tr>\n",
       "      <th>4</th>\n",
       "      <td>C.I. 77266</td>\n",
       "      <td>0</td>\n",
       "      <td>SL Only</td>\n",
       "      <td>NaN</td>\n",
       "      <td>NaN</td>\n",
       "    </tr>\n",
       "    <tr>\n",
       "      <th>...</th>\n",
       "      <td>...</td>\n",
       "      <td>...</td>\n",
       "      <td>...</td>\n",
       "      <td>...</td>\n",
       "      <td>...</td>\n",
       "    </tr>\n",
       "    <tr>\n",
       "      <th>360</th>\n",
       "      <td>FRAGRANCE</td>\n",
       "      <td>100-52-7</td>\n",
       "      <td>100-52-7</td>\n",
       "      <td>NaN</td>\n",
       "      <td>NaN</td>\n",
       "    </tr>\n",
       "    <tr>\n",
       "      <th>363</th>\n",
       "      <td>GLYCERINE</td>\n",
       "      <td>8013-25-0</td>\n",
       "      <td>8013-25-0</td>\n",
       "      <td>NaN</td>\n",
       "      <td>NaN</td>\n",
       "    </tr>\n",
       "    <tr>\n",
       "      <th>373</th>\n",
       "      <td>HYDROGEN SULFATE</td>\n",
       "      <td>14996-02-2</td>\n",
       "      <td>14996-02-2</td>\n",
       "      <td>NaN</td>\n",
       "      <td>NaN</td>\n",
       "    </tr>\n",
       "    <tr>\n",
       "      <th>378</th>\n",
       "      <td>ISOPENTANE</td>\n",
       "      <td>78-78-4</td>\n",
       "      <td>78-78-4</td>\n",
       "      <td>NaN</td>\n",
       "      <td>NaN</td>\n",
       "    </tr>\n",
       "    <tr>\n",
       "      <th>383</th>\n",
       "      <td>ISOPROPYLIDENEGLYCEROL</td>\n",
       "      <td>100-79-8</td>\n",
       "      <td>100-79-8</td>\n",
       "      <td>NaN</td>\n",
       "      <td>NaN</td>\n",
       "    </tr>\n",
       "  </tbody>\n",
       "</table>\n",
       "<p>186 rows × 5 columns</p>\n",
       "</div>"
      ],
      "text/plain": [
       "                         ingredient  cas_number mutated_cas ingredient_sl  \\\n",
       "0    BUTYLATED HYDROXYTOLUENE (BHT)           0     SL Only           NaN   \n",
       "1       BUTYLPHENYL METHYLPROPIONAL           0     SL Only           NaN   \n",
       "2                        C.I. 21108           0     SL Only           NaN   \n",
       "3                       C.I. 50415B           0     SL Only           NaN   \n",
       "4                        C.I. 77266           0     SL Only           NaN   \n",
       "..                              ...         ...         ...           ...   \n",
       "360                       FRAGRANCE    100-52-7    100-52-7           NaN   \n",
       "363                       GLYCERINE   8013-25-0   8013-25-0           NaN   \n",
       "373                HYDROGEN SULFATE  14996-02-2  14996-02-2           NaN   \n",
       "378                      ISOPENTANE     78-78-4     78-78-4           NaN   \n",
       "383          ISOPROPYLIDENEGLYCEROL    100-79-8    100-79-8           NaN   \n",
       "\n",
       "    ingredient_cpisi  \n",
       "0                NaN  \n",
       "1                NaN  \n",
       "2                NaN  \n",
       "3                NaN  \n",
       "4                NaN  \n",
       "..               ...  \n",
       "360              NaN  \n",
       "363              NaN  \n",
       "373              NaN  \n",
       "378              NaN  \n",
       "383              NaN  \n",
       "\n",
       "[186 rows x 5 columns]"
      ]
     },
     "execution_count": 49,
     "metadata": {},
     "output_type": "execute_result"
    }
   ],
   "source": [
    "anti_join_sl"
   ]
  },
  {
   "cell_type": "code",
   "execution_count": 50,
   "id": "ff0850a9-b339-442d-8137-0cd11d2c678c",
   "metadata": {},
   "outputs": [
    {
     "name": "stdout",
     "output_type": "stream",
     "text": [
      "Length of SL:  310\n",
      "Length of Common Items:  124\n",
      "Length of SL Only:  186\n",
      "Sum of SL + Common Items:  310\n",
      "Error:  0\n"
     ]
    }
   ],
   "source": [
    "print(\"Length of SL: \", len(sl))\n",
    "print(\"Length of Common Items: \", len(common_items))\n",
    "print(\"Length of SL Only: \", len(anti_join_sl))\n",
    "print(\"Sum of SL + Common Items: \", len(anti_join_sl)+len(common_items))\n",
    "print(\"Error: \", len(sl)-(len(anti_join_sl)+len(common_items)))"
   ]
  },
  {
   "cell_type": "markdown",
   "id": "4f454cbd-6140-4f39-8237-d1e35a32b72a",
   "metadata": {},
   "source": [
    "As we can see everything adds up -- the common items + the SL only equals the SL length. We're ready to export SL only items as 'sl_only.csv'"
   ]
  },
  {
   "cell_type": "code",
   "execution_count": 51,
   "id": "4d79dabc-93bc-4302-852a-2b6fc79b5089",
   "metadata": {},
   "outputs": [],
   "source": [
    "sl_only = anti_join_fl[['ingredient','cas_number']]"
   ]
  },
  {
   "cell_type": "code",
   "execution_count": 52,
   "id": "c9a18801-abbb-4e77-bcee-b216751b303e",
   "metadata": {},
   "outputs": [],
   "source": [
    "sl_only.to_csv('sl_only.csv',index=False)"
   ]
  },
  {
   "cell_type": "markdown",
   "id": "2b6111f3-fcf7-4e4f-8a97-422412b8fb7d",
   "metadata": {},
   "source": [
    "#### Create CPISI Only CSV"
   ]
  },
  {
   "cell_type": "markdown",
   "id": "adc0cbc5-9d4a-4aa6-9411-1e1cd8f7d4a6",
   "metadata": {},
   "source": [
    "Same thing as above, so I will skip the textual explanations"
   ]
  },
  {
   "cell_type": "code",
   "execution_count": 53,
   "id": "eecd6a6e-4ba0-47c6-ad9f-7d6d5c13ebcc",
   "metadata": {},
   "outputs": [],
   "source": [
    "outer_join_cpisi = pd.merge(cpisi,common_items,on='mutated_cas',how='outer', indicator = True)"
   ]
  },
  {
   "cell_type": "code",
   "execution_count": 54,
   "id": "90f3504d-d03e-4a28-b78b-168166d2b9de",
   "metadata": {},
   "outputs": [],
   "source": [
    "anti_join_cpisi = outer_join_cpisi[~(outer_join_cpisi._merge == 'both')].drop('_merge', axis = 1)"
   ]
  },
  {
   "cell_type": "code",
   "execution_count": 55,
   "id": "93fa6131-5bdc-4adb-a730-3bc2f1b25d86",
   "metadata": {},
   "outputs": [
    {
     "name": "stdout",
     "output_type": "stream",
     "text": [
      "Length of CPISI:  911\n",
      "Length of Common Items:  124\n",
      "Length of CPISI Only:  815\n",
      "Sum of CPISI + Common Items:  939\n",
      "Error:  -28\n"
     ]
    }
   ],
   "source": [
    "print(\"Length of CPISI: \", len(cpisi))\n",
    "print(\"Length of Common Items: \", len(common_items))\n",
    "print(\"Length of CPISI Only: \", len(anti_join_cpisi))\n",
    "print(\"Sum of CPISI + Common Items: \", len(anti_join_cpisi)+len(common_items))\n",
    "print(\"Error: \", len(cpisi)-(len(anti_join_cpisi)+len(common_items)))"
   ]
  },
  {
   "cell_type": "markdown",
   "id": "b384fe63-aff9-47b6-afd9-cf4e5932b27c",
   "metadata": {},
   "source": [
    "UH-OH! Something is off. There is a difference of 28 items from the original CPISI dataset and the reconstructed one. As it turns out, the reason is that one compound present in the CPISI database may have matched more than one compound in the SL database. So, there are duplicate entries. So let's try again by filtering for unique entries."
   ]
  },
  {
   "cell_type": "code",
   "execution_count": 56,
   "id": "6b68fae9-07da-41c6-9334-d06127415dac",
   "metadata": {},
   "outputs": [
    {
     "data": {
      "text/html": [
       "<div>\n",
       "<style scoped>\n",
       "    .dataframe tbody tr th:only-of-type {\n",
       "        vertical-align: middle;\n",
       "    }\n",
       "\n",
       "    .dataframe tbody tr th {\n",
       "        vertical-align: top;\n",
       "    }\n",
       "\n",
       "    .dataframe thead th {\n",
       "        text-align: right;\n",
       "    }\n",
       "</style>\n",
       "<table border=\"1\" class=\"dataframe\">\n",
       "  <thead>\n",
       "    <tr style=\"text-align: right;\">\n",
       "      <th></th>\n",
       "      <th>ingredient_sl</th>\n",
       "      <th>ingredient_cpisi</th>\n",
       "      <th>mutated_cas</th>\n",
       "    </tr>\n",
       "  </thead>\n",
       "  <tbody>\n",
       "    <tr>\n",
       "      <th>0</th>\n",
       "      <td>C.I. ACID BLUE 7</td>\n",
       "      <td>CI 42080</td>\n",
       "      <td>3486-30-4</td>\n",
       "    </tr>\n",
       "    <tr>\n",
       "      <th>1</th>\n",
       "      <td>C.I. ACID BLUE 80</td>\n",
       "      <td>CI 61585</td>\n",
       "      <td>4474-24-2</td>\n",
       "    </tr>\n",
       "    <tr>\n",
       "      <th>2</th>\n",
       "      <td>C.I. ACID YELLOW 17</td>\n",
       "      <td>CI 18965</td>\n",
       "      <td>6359-98-4</td>\n",
       "    </tr>\n",
       "    <tr>\n",
       "      <th>3</th>\n",
       "      <td>C.I. DIRECT BLUE 199</td>\n",
       "      <td>C.I. DIRECT BLUE 199</td>\n",
       "      <td>12222-04-7</td>\n",
       "    </tr>\n",
       "    <tr>\n",
       "      <th>4</th>\n",
       "      <td>C.I. DIRECT BLUE 86</td>\n",
       "      <td>CI 74180</td>\n",
       "      <td>1330-38-7</td>\n",
       "    </tr>\n",
       "  </tbody>\n",
       "</table>\n",
       "</div>"
      ],
      "text/plain": [
       "          ingredient_sl      ingredient_cpisi mutated_cas\n",
       "0      C.I. ACID BLUE 7              CI 42080   3486-30-4\n",
       "1     C.I. ACID BLUE 80              CI 61585   4474-24-2\n",
       "2   C.I. ACID YELLOW 17              CI 18965   6359-98-4\n",
       "3  C.I. DIRECT BLUE 199  C.I. DIRECT BLUE 199  12222-04-7\n",
       "4   C.I. DIRECT BLUE 86              CI 74180   1330-38-7"
      ]
     },
     "execution_count": 56,
     "metadata": {},
     "output_type": "execute_result"
    }
   ],
   "source": [
    "common_items.head()"
   ]
  },
  {
   "cell_type": "code",
   "execution_count": 57,
   "id": "9cdb9cdf-98b5-421a-b95e-3bade520e827",
   "metadata": {},
   "outputs": [],
   "source": [
    "common_items_unique = common_items[['ingredient_cpisi','mutated_cas']]"
   ]
  },
  {
   "cell_type": "code",
   "execution_count": 58,
   "id": "5f63c314-0e83-4a6a-a69e-b5f67937f1e0",
   "metadata": {},
   "outputs": [],
   "source": [
    "common_items_unique = common_items_unique.drop_duplicates()"
   ]
  },
  {
   "cell_type": "code",
   "execution_count": 59,
   "id": "afdf7b56-0d9c-49d7-9aa5-460dd595eb6d",
   "metadata": {},
   "outputs": [
    {
     "data": {
      "text/html": [
       "<div>\n",
       "<style scoped>\n",
       "    .dataframe tbody tr th:only-of-type {\n",
       "        vertical-align: middle;\n",
       "    }\n",
       "\n",
       "    .dataframe tbody tr th {\n",
       "        vertical-align: top;\n",
       "    }\n",
       "\n",
       "    .dataframe thead th {\n",
       "        text-align: right;\n",
       "    }\n",
       "</style>\n",
       "<table border=\"1\" class=\"dataframe\">\n",
       "  <thead>\n",
       "    <tr style=\"text-align: right;\">\n",
       "      <th></th>\n",
       "      <th>ingredient_cpisi</th>\n",
       "      <th>mutated_cas</th>\n",
       "    </tr>\n",
       "  </thead>\n",
       "  <tbody>\n",
       "    <tr>\n",
       "      <th>0</th>\n",
       "      <td>CI 42080</td>\n",
       "      <td>3486-30-4</td>\n",
       "    </tr>\n",
       "    <tr>\n",
       "      <th>1</th>\n",
       "      <td>CI 61585</td>\n",
       "      <td>4474-24-2</td>\n",
       "    </tr>\n",
       "    <tr>\n",
       "      <th>2</th>\n",
       "      <td>CI 18965</td>\n",
       "      <td>6359-98-4</td>\n",
       "    </tr>\n",
       "    <tr>\n",
       "      <th>3</th>\n",
       "      <td>C.I. DIRECT BLUE 199</td>\n",
       "      <td>12222-04-7</td>\n",
       "    </tr>\n",
       "    <tr>\n",
       "      <th>4</th>\n",
       "      <td>CI 74180</td>\n",
       "      <td>1330-38-7</td>\n",
       "    </tr>\n",
       "  </tbody>\n",
       "</table>\n",
       "</div>"
      ],
      "text/plain": [
       "       ingredient_cpisi mutated_cas\n",
       "0              CI 42080   3486-30-4\n",
       "1              CI 61585   4474-24-2\n",
       "2              CI 18965   6359-98-4\n",
       "3  C.I. DIRECT BLUE 199  12222-04-7\n",
       "4              CI 74180   1330-38-7"
      ]
     },
     "execution_count": 59,
     "metadata": {},
     "output_type": "execute_result"
    }
   ],
   "source": [
    "common_items_unique.head()"
   ]
  },
  {
   "cell_type": "code",
   "execution_count": 60,
   "id": "8bb920f7-9e3b-424d-bd7e-246f36228043",
   "metadata": {},
   "outputs": [],
   "source": [
    "outer_join_cpisi = pd.merge(cpisi,common_items_unique,on='mutated_cas',how='outer', indicator = True)\n",
    "anti_join_cpisi = outer_join_cpisi[~(outer_join_cpisi._merge == 'both')].drop('_merge', axis = 1)"
   ]
  },
  {
   "cell_type": "code",
   "execution_count": 61,
   "id": "97e084f6-afa5-4845-83c7-b9718b085168",
   "metadata": {},
   "outputs": [
    {
     "name": "stdout",
     "output_type": "stream",
     "text": [
      "Length of CPISI:  911\n",
      "Length of Common Items:  96\n",
      "Length of CPISI Only:  815\n",
      "Sum of CPISI + Common Items:  911\n",
      "Error:  0\n"
     ]
    }
   ],
   "source": [
    "print(\"Length of CPISI: \", len(cpisi))\n",
    "print(\"Length of Common Items: \", len(common_items_unique))\n",
    "print(\"Length of CPISI Only: \", len(anti_join_cpisi))\n",
    "print(\"Sum of CPISI + Common Items: \", len(anti_join_cpisi)+len(common_items_unique))\n",
    "print(\"Error: \", len(cpisi)-(len(anti_join_cpisi)+len(common_items_unique)))"
   ]
  },
  {
   "cell_type": "markdown",
   "id": "7fa9ad58-79ca-4085-befc-3d50c7f27f07",
   "metadata": {},
   "source": [
    "Voila! Now we're ready to export it"
   ]
  },
  {
   "cell_type": "code",
   "execution_count": 62,
   "id": "87725047-91c4-4efa-ae1a-6e4e86d82bc9",
   "metadata": {},
   "outputs": [],
   "source": [
    "cpisi_only = anti_join_cpisi[['ingredient','cas_number']]"
   ]
  },
  {
   "cell_type": "code",
   "execution_count": 63,
   "id": "ff5f6f74-20ce-4e69-abfe-4ef4f0762916",
   "metadata": {},
   "outputs": [],
   "source": [
    "cpisi_only.to_csv('cpisi_only.csv',index=False)"
   ]
  }
 ],
 "metadata": {
  "kernelspec": {
   "display_name": "Python 3 (ipykernel)",
   "language": "python",
   "name": "python3"
  },
  "language_info": {
   "codemirror_mode": {
    "name": "ipython",
    "version": 3
   },
   "file_extension": ".py",
   "mimetype": "text/x-python",
   "name": "python",
   "nbconvert_exporter": "python",
   "pygments_lexer": "ipython3",
   "version": "3.9.5"
  }
 },
 "nbformat": 4,
 "nbformat_minor": 5
}
